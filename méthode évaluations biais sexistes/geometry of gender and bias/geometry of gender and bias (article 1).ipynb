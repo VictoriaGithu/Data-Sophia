{
 "cells": [
  {
   "cell_type": "code",
   "execution_count": 1,
   "metadata": {},
   "outputs": [],
   "source": [
    "from gensim import models\n",
    "import numpy as np"
   ]
  },
  {
   "cell_type": "code",
   "execution_count": 2,
   "metadata": {},
   "outputs": [],
   "source": [
    "first_model = models.KeyedVectors.load_word2vec_format('GoogleNews-vectors-negative300.bin\\GoogleNews-vectors-negative300.bin', binary=True)"
   ]
  },
  {
   "cell_type": "code",
   "execution_count": 3,
   "metadata": {},
   "outputs": [
    {
     "data": {
      "text/plain": [
       "[('woman', 0.7664012908935547),\n",
       " ('boy', 0.6824871301651001),\n",
       " ('teenager', 0.6586930155754089),\n",
       " ('teenage_girl', 0.6147903203964233),\n",
       " ('girl', 0.5921714305877686),\n",
       " ('suspected_purse_snatcher', 0.571636438369751),\n",
       " ('robber', 0.5585119128227234),\n",
       " ('Robbery_suspect', 0.5584409832954407),\n",
       " ('teen_ager', 0.5549196600914001),\n",
       " ('men', 0.5489763021469116)]"
      ]
     },
     "execution_count": 3,
     "metadata": {},
     "output_type": "execute_result"
    }
   ],
   "source": [
    "first_model.most_similar('man')"
   ]
  },
  {
   "cell_type": "markdown",
   "metadata": {},
   "source": [
    "On applique la même procédure du filtrage du modèle que celle de l'article 1. "
   ]
  },
  {
   "cell_type": "code",
   "execution_count": 4,
   "metadata": {},
   "outputs": [],
   "source": [
    "first_model.sort_by_descending_frequency()\n",
    "first_model.unit_normalize_all()"
   ]
  },
  {
   "cell_type": "code",
   "execution_count": 5,
   "metadata": {},
   "outputs": [
    {
     "data": {
      "text/plain": [
       "['</s>', 'in', 'for', 'that', 'is', 'on', '##', 'The', 'with', 'said']"
      ]
     },
     "execution_count": 5,
     "metadata": {},
     "output_type": "execute_result"
    }
   ],
   "source": [
    "first_model.index_to_key[:10]"
   ]
  },
  {
   "cell_type": "code",
   "execution_count": 6,
   "metadata": {},
   "outputs": [],
   "source": [
    "def verifier_chaine(chaine) :\n",
    "    if chaine.islower() and chaine.isalpha() and len(chaine)<20 :\n",
    "        return True\n",
    "    return False"
   ]
  },
  {
   "cell_type": "code",
   "execution_count": 7,
   "metadata": {},
   "outputs": [
    {
     "data": {
      "text/plain": [
       "(['in', 'for', 'that', 'is', 'on', 'with', 'said', 'was', 'the', 'at'], 24065)"
      ]
     },
     "execution_count": 7,
     "metadata": {},
     "output_type": "execute_result"
    }
   ],
   "source": [
    "words_sorted = first_model.index_to_key[:50000]\n",
    "words_sorted = [word for word in words_sorted if verifier_chaine(word)]\n",
    "words_sorted[:10], len(words_sorted)"
   ]
  },
  {
   "cell_type": "code",
   "execution_count": 8,
   "metadata": {},
   "outputs": [],
   "source": [
    "vector_size = first_model.vector_size\n",
    "model = models.keyedvectors.KeyedVectors(vector_size, count=0)\n",
    "for word in words_sorted :\n",
    "    model[word] = first_model[word]"
   ]
  },
  {
   "cell_type": "code",
   "execution_count": 9,
   "metadata": {},
   "outputs": [
    {
     "data": {
      "text/plain": [
       "[('woman', 0.7664012908935547),\n",
       " ('boy', 0.6824870109558105),\n",
       " ('teenager', 0.6586930155754089),\n",
       " ('girl', 0.5921714305877686),\n",
       " ('robber', 0.5585119128227234),\n",
       " ('men', 0.5489763021469116),\n",
       " ('guy', 0.5420035719871521),\n",
       " ('person', 0.5342026352882385),\n",
       " ('gentleman', 0.5337990522384644),\n",
       " ('motorcyclist', 0.5336882472038269)]"
      ]
     },
     "execution_count": 9,
     "metadata": {},
     "output_type": "execute_result"
    }
   ],
   "source": [
    "model.most_similar('man')"
   ]
  },
  {
   "cell_type": "markdown",
   "metadata": {},
   "source": [
    "Maintenant, on cherche à étudier la géométrie du genre et des biais dans le word embedding. "
   ]
  },
  {
   "cell_type": "markdown",
   "metadata": {},
   "source": [
    "**Etape 1 : Identifier le sous-espace associé au genre.**"
   ]
  },
  {
   "cell_type": "markdown",
   "metadata": {},
   "source": [
    "L'utilisation du langage est \"désordonnée\" et par conséquent, les paires de mots individuelles ne se comportent pas toujours comme prévu. Par exemple, le mot \"man\" a plusieurs usages différents : il peut être utilisé comme une exclamation comme dans \"oh man !\" ou pour se référer à des personnes des deux genres, ou encore en tant que verbe, par exemple \"man the station\". "
   ]
  },
  {
   "cell_type": "markdown",
   "metadata": {},
   "source": [
    "Pour estimer le biais de manière plus robuste, nous allons agréger plusieurs comparaisons par paires. En combinant plusieurs directions, telles que (she-he) et (woman - man), nous identifions une direction de genre g ∈ R**d qui capture largement le genre dans l'incorporation (embedding)."
   ]
  },
  {
   "cell_type": "code",
   "execution_count": 10,
   "metadata": {},
   "outputs": [],
   "source": [
    "#calculons les différences de vecteur pour toutes les paires similaires à she/he\n",
    "vect_she = model['she']\n",
    "vect_he = model['he']\n",
    "diff1 = (vect_she-vect_he)/np.linalg.norm(vect_she-vect_he)\n",
    "\n",
    "vect_her = model['her']\n",
    "vect_his = model['his']\n",
    "diff2 = (vect_her-vect_his)/np.linalg.norm(vect_her-vect_his)\n",
    "\n",
    "vect_woman = model['woman']\n",
    "vect_man = model['man']\n",
    "diff3 = (vect_woman-vect_man)/np.linalg.norm(vect_woman-vect_man)\n",
    "\n",
    "vect_herself = model['herself']\n",
    "vect_himself = model['himself']\n",
    "diff5 = vect_herself-vect_himself/np.linalg.norm(vect_herself-vect_himself) \n",
    "\n",
    "vect_daughter = model['daughter']\n",
    "vect_son = model['son']\n",
    "diff6 = (vect_daughter-vect_son)/np.linalg.norm(vect_daughter-vect_son)\n",
    "\n",
    "vect_mother = model['mother']\n",
    "vect_father = model['father']\n",
    "diff7 = (vect_mother-vect_father)/np.linalg.norm(vect_mother-vect_father)\n",
    "\n",
    "vect_gal = model['gal']\n",
    "vect_guy = model['guy']\n",
    "diff8 = (vect_gal-vect_guy)/np.linalg.norm(vect_gal-vect_guy)\n",
    "\n",
    "vect_girl = model['girl']\n",
    "vect_boy = model['boy']\n",
    "diff9 = (vect_girl-vect_boy)/np.linalg.norm(vect_girl-vect_boy)\n",
    "\n",
    "vect_female = model['female']\n",
    "vect_male = model['male']\n",
    "diff10 = (vect_female - vect_male)/np.linalg.norm(vect_female-vect_male)\n",
    "\n",
    "#Rmq : dans l'article, font aussi la diff vectMary-vectJohn,\n",
    "#BIZARRE : sont censés avoir enlevé les majuscules du vocabulaire"
   ]
  },
  {
   "cell_type": "markdown",
   "metadata": {},
   "source": [
    "Pour identifier le sous-espace associé au genre, on regarde l'ACP des 10 vecteurs précédents associés au genre. "
   ]
  },
  {
   "cell_type": "code",
   "execution_count": 11,
   "metadata": {},
   "outputs": [
    {
     "data": {
      "text/plain": [
       "(300, 9)"
      ]
     },
     "execution_count": 11,
     "metadata": {},
     "output_type": "execute_result"
    }
   ],
   "source": [
    "#on fait un array qui contient toutes les différences de vecteurs\n",
    "#il y a 10 individus et 300 dimensions pour chaque vecteur\n",
    "DIFF = np.array([diff1, diff2, diff3, diff5, diff6, diff7, diff8, diff9, diff10])  \n",
    "D = np.transpose(DIFF)\n",
    "D.shape"
   ]
  },
  {
   "cell_type": "code",
   "execution_count": 12,
   "metadata": {},
   "outputs": [
    {
     "data": {
      "text/html": [
       "<style>#sk-container-id-1 {color: black;}#sk-container-id-1 pre{padding: 0;}#sk-container-id-1 div.sk-toggleable {background-color: white;}#sk-container-id-1 label.sk-toggleable__label {cursor: pointer;display: block;width: 100%;margin-bottom: 0;padding: 0.3em;box-sizing: border-box;text-align: center;}#sk-container-id-1 label.sk-toggleable__label-arrow:before {content: \"▸\";float: left;margin-right: 0.25em;color: #696969;}#sk-container-id-1 label.sk-toggleable__label-arrow:hover:before {color: black;}#sk-container-id-1 div.sk-estimator:hover label.sk-toggleable__label-arrow:before {color: black;}#sk-container-id-1 div.sk-toggleable__content {max-height: 0;max-width: 0;overflow: hidden;text-align: left;background-color: #f0f8ff;}#sk-container-id-1 div.sk-toggleable__content pre {margin: 0.2em;color: black;border-radius: 0.25em;background-color: #f0f8ff;}#sk-container-id-1 input.sk-toggleable__control:checked~div.sk-toggleable__content {max-height: 200px;max-width: 100%;overflow: auto;}#sk-container-id-1 input.sk-toggleable__control:checked~label.sk-toggleable__label-arrow:before {content: \"▾\";}#sk-container-id-1 div.sk-estimator input.sk-toggleable__control:checked~label.sk-toggleable__label {background-color: #d4ebff;}#sk-container-id-1 div.sk-label input.sk-toggleable__control:checked~label.sk-toggleable__label {background-color: #d4ebff;}#sk-container-id-1 input.sk-hidden--visually {border: 0;clip: rect(1px 1px 1px 1px);clip: rect(1px, 1px, 1px, 1px);height: 1px;margin: -1px;overflow: hidden;padding: 0;position: absolute;width: 1px;}#sk-container-id-1 div.sk-estimator {font-family: monospace;background-color: #f0f8ff;border: 1px dotted black;border-radius: 0.25em;box-sizing: border-box;margin-bottom: 0.5em;}#sk-container-id-1 div.sk-estimator:hover {background-color: #d4ebff;}#sk-container-id-1 div.sk-parallel-item::after {content: \"\";width: 100%;border-bottom: 1px solid gray;flex-grow: 1;}#sk-container-id-1 div.sk-label:hover label.sk-toggleable__label {background-color: #d4ebff;}#sk-container-id-1 div.sk-serial::before {content: \"\";position: absolute;border-left: 1px solid gray;box-sizing: border-box;top: 0;bottom: 0;left: 50%;z-index: 0;}#sk-container-id-1 div.sk-serial {display: flex;flex-direction: column;align-items: center;background-color: white;padding-right: 0.2em;padding-left: 0.2em;position: relative;}#sk-container-id-1 div.sk-item {position: relative;z-index: 1;}#sk-container-id-1 div.sk-parallel {display: flex;align-items: stretch;justify-content: center;background-color: white;position: relative;}#sk-container-id-1 div.sk-item::before, #sk-container-id-1 div.sk-parallel-item::before {content: \"\";position: absolute;border-left: 1px solid gray;box-sizing: border-box;top: 0;bottom: 0;left: 50%;z-index: -1;}#sk-container-id-1 div.sk-parallel-item {display: flex;flex-direction: column;z-index: 1;position: relative;background-color: white;}#sk-container-id-1 div.sk-parallel-item:first-child::after {align-self: flex-end;width: 50%;}#sk-container-id-1 div.sk-parallel-item:last-child::after {align-self: flex-start;width: 50%;}#sk-container-id-1 div.sk-parallel-item:only-child::after {width: 0;}#sk-container-id-1 div.sk-dashed-wrapped {border: 1px dashed gray;margin: 0 0.4em 0.5em 0.4em;box-sizing: border-box;padding-bottom: 0.4em;background-color: white;}#sk-container-id-1 div.sk-label label {font-family: monospace;font-weight: bold;display: inline-block;line-height: 1.2em;}#sk-container-id-1 div.sk-label-container {text-align: center;}#sk-container-id-1 div.sk-container {/* jupyter's `normalize.less` sets `[hidden] { display: none; }` but bootstrap.min.css set `[hidden] { display: none !important; }` so we also need the `!important` here to be able to override the default hidden behavior on the sphinx rendered scikit-learn.org. See: https://github.com/scikit-learn/scikit-learn/issues/21755 */display: inline-block !important;position: relative;}#sk-container-id-1 div.sk-text-repr-fallback {display: none;}</style><div id=\"sk-container-id-1\" class=\"sk-top-container\"><div class=\"sk-text-repr-fallback\"><pre>PCA(n_components=9)</pre><b>In a Jupyter environment, please rerun this cell to show the HTML representation or trust the notebook. <br />On GitHub, the HTML representation is unable to render, please try loading this page with nbviewer.org.</b></div><div class=\"sk-container\" hidden><div class=\"sk-item\"><div class=\"sk-estimator sk-toggleable\"><input class=\"sk-toggleable__control sk-hidden--visually\" id=\"sk-estimator-id-1\" type=\"checkbox\" checked><label for=\"sk-estimator-id-1\" class=\"sk-toggleable__label sk-toggleable__label-arrow\">PCA</label><div class=\"sk-toggleable__content\"><pre>PCA(n_components=9)</pre></div></div></div></div></div>"
      ],
      "text/plain": [
       "PCA(n_components=9)"
      ]
     },
     "execution_count": 12,
     "metadata": {},
     "output_type": "execute_result"
    }
   ],
   "source": [
    "from sklearn import decomposition\n",
    "pca = decomposition.PCA(n_components=9)\n",
    "pca.fit(D)"
   ]
  },
  {
   "cell_type": "code",
   "execution_count": 13,
   "metadata": {},
   "outputs": [
    {
     "data": {
      "text/plain": [
       "Text(0, 0.5, 'Proportion de variance expliquée')"
      ]
     },
     "execution_count": 13,
     "metadata": {},
     "output_type": "execute_result"
    },
    {
     "data": {
      "image/png": "[encoded data removed]",
      "text/plain": [
       "<Figure size 640x480 with 1 Axes>"
      ]
     },
     "metadata": {},
     "output_type": "display_data"
    }
   ],
   "source": [
    "import matplotlib.pyplot as plt\n",
    "plt.plot(np.arange(1, 10), pca.explained_variance_ratio_, marker='o', color='black')\n",
    "plt.xlabel(\"Nombre de composantes principales\")\n",
    "plt.ylabel(\"Proportion de variance expliquée\")"
   ]
  },
  {
   "cell_type": "code",
   "execution_count": 14,
   "metadata": {},
   "outputs": [
    {
     "name": "stdout",
     "output_type": "stream",
     "text": [
      "(300,)\n",
      "2.3657408\n",
      "0.99999994\n"
     ]
    }
   ],
   "source": [
    "#on affiche la première composante qui correspond à la direction de plus grande variance\n",
    "#soit la direction qu'on associe au sous-espace de genre\n",
    "pcs = pca.components_\n",
    "dir_genre = np.dot(D, pcs[0])\n",
    "print(dir_genre.shape)\n",
    "print(np.linalg.norm(dir_genre))\n",
    "dir_genre = dir_genre/np.linalg.norm(dir_genre)\n",
    "print(np.linalg.norm(dir_genre))"
   ]
  },
  {
   "cell_type": "markdown",
   "metadata": {},
   "source": [
    "**Etape 2 : calcul du biais direct**"
   ]
  },
  {
   "cell_type": "markdown",
   "metadata": {},
   "source": [
    "Pour mesurer le biais direct, nous identifions d'abord les mots qui devraient être neutres en termes de genre pour l'application en question. Comment générer cet ensemble de mots neutres en termes de genre est décrit dans la Section 7.\n",
    "*Dans ce notebook, on ne vas pas gérer l'ensemble des mots neutres mais simplement évaluer la méthode sur les métiers possibles, qui sont par essence des mots neutres.*\n",
    "\n",
    "Une fois les mots neutres en termes de genre, notés par $ N $, et la direction de genre apprise ci-dessus, $ g $, définis, nous définissons le biais de genre direct d'une incorporation comme suit :\n",
    "\n",
    "$ DirectBias_c = \\frac{1}{|N|} \\sum_{w \\in N} | \\cos(\\tilde{w}, g) |^c $\n",
    "\n",
    "où $ c $ est un paramètre qui détermine à quel point nous voulons être stricts dans la mesure du biais. Si $ c $ est 0, alors $ | \\cos(\\tilde{w} - g) |^c = 0 $ seulement si $ \\tilde{w} $ n'a aucun chevauchement avec $ g $ (donc si le genre n'a absolument aucune influence), sinon il est égal à 1. Un biais plus graduel serait d'attribuer c=1. *La présentation que nous avons choisie favorise la simplicité - il serait naturel d'étendre nos définitions pour pondérer les mots par fréquence.* --> **piste de recherche** "
   ]
  },
  {
   "cell_type": "markdown",
   "metadata": {},
   "source": [
    "OU TROUVER LA LISTE DES METIERS ? "
   ]
  },
  {
   "cell_type": "code",
   "execution_count": 15,
   "metadata": {},
   "outputs": [],
   "source": [
    "from sklearn.metrics.pairwise import cosine_similarity, linear_kernel"
   ]
  },
  {
   "cell_type": "code",
   "execution_count": 29,
   "metadata": {},
   "outputs": [],
   "source": [
    "metiers = [\n",
    "    \"doctor\",\n",
    "    \"nurse\",\n",
    "    \"lawyer\",\n",
    "    \"teacher\",\n",
    "    \"electrician\",\n",
    "    \"plumber\",\n",
    "    \"accountant\",\n",
    "    \"secretary\",\n",
    "    \"chef\",\n",
    "    \"farmer\",\n",
    "    \"artist\",\n",
    "    \"musician\",\n",
    "    \"actor\",\n",
    "    \"journalist\",\n",
    "    \"writer\",\n",
    "    \"astronomer\",\n",
    "    \"pharmacist\",\n",
    "    \"veterinarian\",\n",
    "    \"hairdresser\",\n",
    "    \"esthetician\",\n",
    "    \"pilot\",\n",
    "    \"firefighter\",\n",
    "    \"mechanic\",\n",
    "    \"technician\",\n",
    "    \"architect\",\n",
    "    \"clerk\",\n",
    "    \"guard\",\n",
    "    \"coach\",\n",
    "    \"referee\",\n",
    "    \"driver\",\n",
    "    \"baker\",\n",
    "    \"carpenter\",\n",
    "    \"tailor\",\n",
    "    \"laborer\",\n",
    "    \"cleaner\",\n",
    "    \"waiter\",\n",
    "    \"waitress\",\n",
    "    \"bartender\",\n",
    "    \"cashier\",\n",
    "    \"butcher\",\n",
    "    \"librarian\",\n",
    "    \"receptionist\",\n",
    "    \"janitor\",\n",
    "    \"landscaper\",\n",
    "    \"gardener\",\n",
    "    \"stylist\",\n",
    "    \"model\",\n",
    "    \"photographer\",\n",
    "    \"biologist\",\n",
    "    \"chemist\",\n",
    "    \"physicist\",\n",
    "    \"geologist\",\n",
    "    \"meteorologist\",\n",
    "    \"oceanographer\",\n",
    "    \"zoologist\",\n",
    "    \"botanist\",\n",
    "    \"ecologist\",\n",
    "    \"psychologist\",\n",
    "    \"counselor\",\n",
    "    \"trainer\",\n",
    "    \"advisor\",\n",
    "    \"analyst\",\n",
    "    \"planner\",\n",
    "    \"consultant\",\n",
    "    \"contractor\",\n",
    "    \"agent\",\n",
    "    \"broker\",\n",
    "    \"seller\",\n",
    "    \"buyer\",\n",
    "    \"trader\",\n",
    "    \"investor\",\n",
    "    \"marketer\",\n",
    "    \"promoter\",\n",
    "    \"advertiser\",\n",
    "    \"publisher\",\n",
    "    \"printer\",\n",
    "    \"designer\",\n",
    "    \"illustrator\",\n",
    "    \"animator\",\n",
    "    \"programmer\",\n",
    "    \"developer\",\n",
    "    \"engineer\",\n",
    "    \"technologist\",\n",
    "    \"scientist\",\n",
    "    \"researcher\",\n",
    "    \"professor\",\n",
    "    \"lecturer\",\n",
    "    \"educator\",\n",
    "    \"tutor\",\n",
    "    \"instructor\",\n",
    "    \"mentor\",\n",
    "    \"creator\",\n",
    "    \"owner\",\n",
    "    \"partner\",\n",
    "    \"chief\",\n",
    "    \"president\",\n",
    "    \"chairman\",\n",
    "    \"CEO\",\n",
    "    \"CTO\",\n",
    "    \"CFO\",\n",
    "    \"COO\",\n",
    "    \"CIO\",\n",
    "    \"vice\",\n",
    "    \"assistant\",\n",
    "    \"associate\",\n",
    "    \"representative\",\n",
    "    \"specialist\",\n",
    "    \"expert\",\n",
    "    \"professional\",\n",
    "    \"practitioner\",\n",
    "    \"pro\",\n",
    "    \"guru\",\n",
    "    \"wizard\",\n",
    "    \"ninja\",\n",
    "    \"administrator\",\n",
    "    \"entrepreneur\",\n",
    "    \"founder\",\n",
    "    \"leader\",\n",
    "    \"executive\",\n",
    "    \"executive\",\n",
    "    \"administrator\",\n",
    "    \"manager\"\n",
    "]"
   ]
  },
  {
   "cell_type": "code",
   "execution_count": 34,
   "metadata": {},
   "outputs": [],
   "source": [
    "vect_metiers = []\n",
    "for metier in metiers :\n",
    "    if metier in model :\n",
    "        #attention, il faut normaliser les vecteurs\n",
    "        vect = model[metier]/np.linalg.norm(model[metier])\n",
    "        vect_metiers.append(vect)"
   ]
  },
  {
   "cell_type": "code",
   "execution_count": 35,
   "metadata": {},
   "outputs": [
    {
     "name": "stdout",
     "output_type": "stream",
     "text": [
      "122\n",
      "108\n"
     ]
    }
   ],
   "source": [
    "print(len(metiers))\n",
    "print(len(vect_metiers))"
   ]
  },
  {
   "cell_type": "code",
   "execution_count": 37,
   "metadata": {},
   "outputs": [
    {
     "name": "stdout",
     "output_type": "stream",
     "text": [
      "(108, 300)\n"
     ]
    }
   ],
   "source": [
    "vect_met = np.array(vect_metiers)\n",
    "print(vect_met.shape)\n",
    "#vect_met est donc une matrice de 108 lignes (108 occupations) et 300 colonnes"
   ]
  },
  {
   "cell_type": "code",
   "execution_count": 38,
   "metadata": {},
   "outputs": [
    {
     "name": "stdout",
     "output_type": "stream",
     "text": [
      "(1, 108)\n"
     ]
    }
   ],
   "source": [
    "mat_1 = linear_kernel((dir_genre).reshape(1,-1), vect_met) \n",
    "print(mat_1.shape)\n",
    "#me donne une ligne et 327 colonnes\n",
    "#chaque colonne correspond à la cos_sim entre la dir_genre et le vecteur associé à l'occupation\n"
   ]
  },
  {
   "cell_type": "code",
   "execution_count": 39,
   "metadata": {},
   "outputs": [],
   "source": [
    "def biais_direct(N, dir_genre, c) :\n",
    "    mat_1 = linear_kernel((dir_genre).reshape(1,-1), N)\n",
    "    somme_absolue_cos = np.sum(np.abs(mat_1)**c, axis=1)\n",
    "    biais_direct = somme_absolue_cos/(N.shape[0])\n",
    "    return biais_direct "
   ]
  },
  {
   "cell_type": "code",
   "execution_count": 41,
   "metadata": {},
   "outputs": [
    {
     "name": "stdout",
     "output_type": "stream",
     "text": [
      "le biais direct est de [0.08130379]\n"
     ]
    }
   ],
   "source": [
    "print('le biais direct est de {}'.format(biais_direct(vect_met, dir_genre, 1)))"
   ]
  },
  {
   "cell_type": "markdown",
   "metadata": {},
   "source": [
    "Dans l'article, le biais direct obtenu pour les 327 métiers est de B = 0,08."
   ]
  },
  {
   "cell_type": "markdown",
   "metadata": {},
   "source": [
    "Maintenant, on passe à l'étude des biais indirects. "
   ]
  },
  {
   "cell_type": "markdown",
   "metadata": {},
   "source": [
    "Le sous-espace de genre $ g $ que nous avons identifié nous permet de quantifier la contribution de $ g $ aux similarités entre n'importe quelle paire de mots. Nous pouvons décomposer un vecteur de mot donné $ w $ appartenant à $ R^d $ comme $ w = w_g + w_\\perp $, où $ w_g = (w \\cdot g)g $ est la contribution du genre et $ w_\\perp = w - w_g $. Notez que tous les vecteurs de mots sont normalisés pour avoir une longueur unitaire. Nous définissons la composante de genre à la similarité entre deux vecteurs de mots $ w $ et $ v $ comme\n",
    "$ VOIR ARTICLE J ARRIVE PAS A COPIER$\n",
    "\n",
    "L'intuition derrière cette métrique est la suivante : $ w_\\perp \\cdot v_\\perp / (\\|w_\\perp\\|^2 \\|v_\\perp\\|^2) $ est le produit scalaire entre les deux vecteurs si nous projetons le sous-espace de genre et renormalisons les vecteurs pour avoir une longueur unitaire. La métrique quantifie combien ce produit scalaire change (en tant que fraction de la valeur initiale du produit scalaire) en raison de cette opération de suppression du sous-espace de genre. En raison du bruit dans les données, chaque vecteur a une composante non nulle $ w_\\perp $ et $ \\beta $ est bien défini. Notez que $ \\beta(w, w) = 0 $, ce qui est raisonnable puisque la similarité d'un mot à lui-même ne devrait pas dépendre de la contribution du genre. Si $ w_g = 0 = v_g $, alors $ \\beta(w, v) = 0 $; et si $ w_\\perp = 0 = v_\\perp $, alors $ \\beta(w, v) = 1 $.\n"
   ]
  },
  {
   "cell_type": "code",
   "execution_count": 21,
   "metadata": {},
   "outputs": [],
   "source": [
    "def biais_indirect(vect1, vect2, dir): \n",
    "    vect1_para = np.dot(vect1, dir)*dir\n",
    "    vect1_perp = vect1 - vect1_para\n",
    "    vect2_para = np.dot(vect2, dir)*dir\n",
    "    vect2_perp = vect2 - vect2_para\n",
    "    num_beta = np.dot(vect1_perp, vect2_perp)\n",
    "    den_beta = (np.linalg.norm(vect1_perp)**2)*(np.linalg.norm(vect2_perp)**2)\n",
    "    beta = (np.dot(vect1, vect2) - num_beta/den_beta) / np.dot(vect1, vect2)\n",
    "    return beta  "
   ]
  },
  {
   "cell_type": "code",
   "execution_count": 22,
   "metadata": {},
   "outputs": [
    {
     "name": "stdout",
     "output_type": "stream",
     "text": [
      "0.15344360553987801\n",
      "0.4311159891116291\n",
      "0.07866272679416848\n",
      "0.0015101342825190147\n"
     ]
    }
   ],
   "source": [
    "mot_football = model['football']\n",
    "mot_businessman = model['businessman']\n",
    "mot_maestro = model['maestro']\n",
    "mot_pundit = model['pundit']\n",
    "mot_cleric = model['cleric']\n",
    "print(biais_indirect(mot_football, mot_businessman, dir_genre))\n",
    "print(biais_indirect(mot_football, mot_maestro, dir_genre))\n",
    "print(biais_indirect(mot_football, mot_pundit, dir_genre))\n",
    "print(biais_indirect(mot_football, mot_cleric, dir_genre))"
   ]
  },
  {
   "cell_type": "markdown",
   "metadata": {},
   "source": [
    "Dans l'article : \\\n",
    "football-businessman : 31%\\\n",
    "football-maestro : 42%\\\n",
    "football-pundit : 10%\\\n",
    "football-cleric : 2%"
   ]
  },
  {
   "cell_type": "markdown",
   "metadata": {},
   "source": [
    "Les résultats sont à peu près cohérents, sauf pour businessman où le biais est de 31% dans l'article. "
   ]
  },
  {
   "cell_type": "code",
   "execution_count": 27,
   "metadata": {},
   "outputs": [
    {
     "name": "stdout",
     "output_type": "stream",
     "text": [
      "Le biais indirect entre softball et bookkeeper est 0.14789526819334717.\n",
      "Le biais indirect entre softball et receptionist est 0.6422090835779127.\n",
      "Le biais indirect entre softball et waitress est 0.2605798793145377.\n"
     ]
    }
   ],
   "source": [
    "mot_softball = model['softball']\n",
    "mot_bookkeeper = model['bookkeeper']\n",
    "mot_recetionist = model['receptionist']\n",
    "#mot_registered_nurse = model['registered nurse']\n",
    "#il n'y a pas registered nurse dans le vocabulaire de mon modèle --> PROBLEME\n",
    "mot_waitress = model['waitress']\n",
    "print(\"Le biais indirect entre {} et {} est {}.\".format('softball', 'bookkeeper', biais_indirect(mot_softball, mot_bookkeeper, dir_genre)))\n",
    "print(\"Le biais indirect entre {} et {} est {}.\".format('softball', 'receptionist', biais_indirect(mot_softball, mot_recetionist, dir_genre)))\n",
    "print(\"Le biais indirect entre {} et {} est {}.\".format('softball', 'waitress', biais_indirect(mot_softball, mot_waitress, dir_genre)))\n",
    "#print(biais_indirect(mot_softball, mot_bookkeeper, dir_genre))\n",
    "#print(biais_indirect(mot_softball, mot_recetionist, dir_genre))\n",
    "#print(biais_indirect(mot_softball, mot_waitress, dir_genre))"
   ]
  },
  {
   "cell_type": "markdown",
   "metadata": {},
   "source": [
    "Dans l'article : \\\n",
    "softball-bookkeeper : 20%\\\n",
    "softball-receptionniste : 67%\\\n",
    "softball-waitress : 35%"
   ]
  },
  {
   "cell_type": "code",
   "execution_count": null,
   "metadata": {},
   "outputs": [],
   "source": []
  }
 ],
 "metadata": {
  "kernelspec": {
   "display_name": "snake",
   "language": "python",
   "name": "python3"
  },
  "language_info": {
   "codemirror_mode": {
    "name": "ipython",
    "version": 3
   },
   "file_extension": ".py",
   "mimetype": "text/x-python",
   "name": "python",
   "nbconvert_exporter": "python",
   "pygments_lexer": "ipython3",
   "version": "3.10.6"
  }
 },
 "nbformat": 4,
 "nbformat_minor": 2
}
