{
 "cells": [
  {
   "cell_type": "code",
   "execution_count": 2,
   "metadata": {},
   "outputs": [],
   "source": [
    "from gensim.models import KeyedVectors"
   ]
  },
  {
   "cell_type": "code",
   "execution_count": 4,
   "metadata": {},
   "outputs": [],
   "source": [
    "# Chemin vers votre modèle Word2Vec pré-entraîné\n",
    "chemin_vers_modele = \"modele_analogy.word2vec\"\n",
    "\n",
    "wv = KeyedVectors.load(chemin_vers_modele, mmap='r')"
   ]
  },
  {
   "cell_type": "code",
   "execution_count": 6,
   "metadata": {},
   "outputs": [
    {
     "data": {
      "text/plain": [
       "[('fille', 0.46680620312690735),\n",
       " ('epouse', 0.41486242413520813),\n",
       " ('nourrice', 0.380758672952652),\n",
       " ('princesse', 0.3770428001880646),\n",
       " ('servante', 0.36466899514198303),\n",
       " ('poulette', 0.3566243648529053),\n",
       " ('soeur', 0.3496526777744293),\n",
       " ('veuve', 0.3331640362739563),\n",
       " ('prostituee', 0.32419225573539734),\n",
       " ('mariee', 0.3239608108997345)]"
      ]
     },
     "execution_count": 6,
     "metadata": {},
     "output_type": "execute_result"
    }
   ],
   "source": [
    "wv.most_similar('FEMME')"
   ]
  },
  {
   "cell_type": "code",
   "execution_count": 7,
   "metadata": {},
   "outputs": [],
   "source": [
    "from analogy_FUNCTION import mat_etape_analogy, trouver_analogy, reveal_analogy"
   ]
  },
  {
   "cell_type": "code",
   "execution_count": 9,
   "metadata": {},
   "outputs": [],
   "source": [
    "sim_mat = mat_etape_analogy(wv, 'FEMME', 'HOMME') "
   ]
  },
  {
   "cell_type": "code",
   "execution_count": 10,
   "metadata": {},
   "outputs": [],
   "source": [
    "indices_best, best_coefs = trouver_analogy(wv, sim_mat, 20)"
   ]
  },
  {
   "cell_type": "code",
   "execution_count": 11,
   "metadata": {},
   "outputs": [
    {
     "data": {
      "text/plain": [
       "[('ange', 'moyeu', 0.2121077924966812),\n",
       " ('fallait', 'mendians', 0.22179462015628815),\n",
       " ('range', 'potion', 0.215526282787323),\n",
       " ('accablement', 'cedictionnaire', 0.21173079311847687),\n",
       " ('imposteur', 'aspect', 0.20350317656993866),\n",
       " ('menacant', 'habillee', 0.19423575699329376),\n",
       " ('estragon', 'detirer', 0.23296058177947998),\n",
       " ('arbrisseau', 'occasionne', 0.24157209694385529),\n",
       " ('doutoit', 'copie', 0.25224822759628296),\n",
       " ('usines', 'menagere', 0.19113895297050476),\n",
       " ('convoquer', 'legende', 0.1785290241241455),\n",
       " ('cordelier', 'inadapte', 0.1973605453968048),\n",
       " ('litron', 'crin', 0.20823267102241516),\n",
       " ('malkiyya', 'limitative', 0.17960786819458008),\n",
       " ('terah', 'paliers', 0.1833432912826538),\n",
       " ('cloud', 'mehola', 0.25072887539863586),\n",
       " ('pele', 'richesse', 0.2561222016811371),\n",
       " ('bouclier', 'plateaux', 0.2306777834892273),\n",
       " ('pistolet', 'particules', 0.1770833432674408),\n",
       " ('votre', 'reputation', 0.18970146775245667)]"
      ]
     },
     "execution_count": 11,
     "metadata": {},
     "output_type": "execute_result"
    }
   ],
   "source": [
    "reveal_analogy(wv, indices_best, best_coefs)"
   ]
  }
 ],
 "metadata": {
  "kernelspec": {
   "display_name": "snake",
   "language": "python",
   "name": "python3"
  },
  "language_info": {
   "codemirror_mode": {
    "name": "ipython",
    "version": 3
   },
   "file_extension": ".py",
   "mimetype": "text/x-python",
   "name": "python",
   "nbconvert_exporter": "python",
   "pygments_lexer": "ipython3",
   "version": "3.10.6"
  }
 },
 "nbformat": 4,
 "nbformat_minor": 2
}
